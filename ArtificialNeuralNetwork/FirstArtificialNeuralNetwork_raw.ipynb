{
 "cells": [
  {
   "cell_type": "markdown",
   "metadata": {},
   "source": [
    "# My first Artificial Neural Network in PyTorch\n",
    "\n",
    "The required imports and dataset are already given:"
   ]
  },
  {
   "cell_type": "code",
   "execution_count": 1,
   "metadata": {},
   "outputs": [],
   "source": [
    "import torch\n",
    "import torch.nn as nn\n",
    "import torch.nn.functional as F\n",
    "import pandas as pd\n",
    "import numpy as np\n",
    "\n",
    "import matplotlib.pyplot as plt\n",
    "from sklearn.model_selection import train_test_split\n",
    "from sklearn import datasets\n",
    "\n",
    "iris = datasets.load_iris()"
   ]
  },
  {
   "cell_type": "code",
   "execution_count": 2,
   "metadata": {},
   "outputs": [
    {
     "name": "stdout",
     "output_type": "stream",
     "text": [
      "tensor([[0.2823, 0.8887, 0.5734],\n",
      "        [0.0724, 0.3820, 0.8402],\n",
      "        [0.5418, 0.1588, 0.6956]])\n",
      "tensor2 with torch.Size([2, 3])\n"
     ]
    }
   ],
   "source": [
    "#Ecerise: Creating tensors and matrix operations\n",
    "tensor_size=3,3\n",
    "tensor_size_2=2,3\n",
    "my_first_tensor=torch.rand(tensor_size)\n",
    "print(my_first_tensor)\n",
    "\n",
    "b_tensor=torch.rand(tensor_size_2)\n",
    "print('tensor2 with',b_tensor.shape)"
   ]
  },
  {
   "cell_type": "code",
   "execution_count": 3,
   "metadata": {},
   "outputs": [
    {
     "name": "stdout",
     "output_type": "stream",
     "text": [
      "tensor([[0.5093, 0.8865, 1.4866],\n",
      "        [0.4338, 0.5943, 1.1258]])\n"
     ]
    }
   ],
   "source": [
    "#multiplication\n",
    "result= torch.matmul(b_tensor, my_first_tensor)\n",
    "print(result)"
   ]
  },
  {
   "cell_type": "code",
   "execution_count": 4,
   "metadata": {},
   "outputs": [
    {
     "name": "stdout",
     "output_type": "stream",
     "text": [
      "[[1 2]\n",
      " [3 4]]\n",
      "[[1 2]\n",
      " [3 4]]\n",
      "tensor([[1, 2],\n",
      "        [3, 4]], dtype=torch.int32)\n"
     ]
    },
    {
     "data": {
      "text/plain": [
       "array([[1, 2],\n",
       "       [3, 4]])"
      ]
     },
     "execution_count": 4,
     "metadata": {},
     "output_type": "execute_result"
    }
   ],
   "source": [
    "#Initialize a tensor\n",
    "data=np.matrix('1 2; 3 4')#or\n",
    "data1=np.array([[1,2],[3,4]])\n",
    "print(data1)\n",
    "print(data)\n",
    "tensor_np=torch.from_numpy(data)#into tensors\n",
    "print(tensor_np)\n",
    "#tensor for pytorch needed for ann\n",
    "tensor_np.numpy() #back to numpy if needed for output\n",
    "\n"
   ]
  },
  {
   "cell_type": "code",
   "execution_count": 6,
   "metadata": {},
   "outputs": [
    {
     "name": "stdout",
     "output_type": "stream",
     "text": [
      "[0.70201864 0.03185951 0.92735285]\n",
      "[2 4 6]\n"
     ]
    },
    {
     "data": {
      "text/plain": [
       "[<matplotlib.lines.Line2D at 0x2a729be84c0>]"
      ]
     },
     "execution_count": 6,
     "metadata": {},
     "output_type": "execute_result"
    },
    {
     "data": {
      "image/png": "[encoded data removed]",
      "text/plain": [
       "<Figure size 640x480 with 1 Axes>"
      ]
     },
     "metadata": {},
     "output_type": "display_data"
    }
   ],
   "source": [
    "array=np.arange(2,8,2)\n",
    "rand=np.random.random(3)\n",
    "print(rand)\n",
    "print(array)\n",
    "#plt.figure()\n",
    "plt.plot(array,rand)\n",
    "#plt.show()"
   ]
  },
  {
   "cell_type": "markdown",
   "metadata": {},
   "source": [
    "# Train/ Test Split\n",
    "Which function should you use to split the data into test and train data?"
   ]
  },
  {
   "cell_type": "code",
   "execution_count": 4,
   "metadata": {},
   "outputs": [],
   "source": [
    "# Split the data into train and test data\n",
    "X_train, X_test, y_train, y_test = train_test_split(iris.data, iris.target, test_size = 0.2, random_state = 42)\n",
    "\n",
    "# Create tensors from the data\n",
    "X_train = torch.FloatTensor(X_train)\n",
    "X_test = torch.FloatTensor(X_test)\n",
    "y_train = torch.LongTensor(y_train)\n",
    "y_test = torch.LongTensor(y_test)"
   ]
  },
  {
   "cell_type": "markdown",
   "metadata": {},
   "source": [
    "# Defining a Neural Network Model\n",
    "Build a neural network the PyTorch way:\n",
    " - Define the class called ANN which inherits from nn.Module\n",
    " - In the __init__() method, define the parameters for the two fully connected layers.\n",
    " - In the .forward() method, do the forward step\n",
    "\n",
    " The network structure should be:\n",
    " 1) Fully Connected Layer (4 input features (number of features in X), 16 output features (arbitrary))\n",
    " 2) Fully Connected Layer (16 input features (number of output features from the previous layer), 12 output features (arbitrary))\n",
    " 3) Output Layer (12 input features (number of output features from the previous layer), 3 output features (number of distinct classes))\n",
    "\n",
    " Use the ReLU for the activation function."
   ]
  },
  {
   "cell_type": "code",
   "execution_count": 26,
   "metadata": {},
   "outputs": [],
   "source": [
    "# Define the class called ANN which inherits from nn.Module# \n",
    "from turtle import forward\n",
    "\n",
    "\n",
    "class ANN(nn.Module):\n",
    "    def __init__(self):\n",
    "        super(ANN,self).__init__()\n",
    "        self.fc1=nn.Linear(4,16)\n",
    "        self.fc2=nn.Linear(16,12)\n",
    "        self.output=nn.Linear(12,3)\n",
    "\n",
    "    def forward(self,x):\n",
    "        x=F.relu(self.fc1(x))\n",
    "        x=F.relu(self.fc2(x))\n",
    "        x=self.output(x)\n",
    "        return x"
   ]
  },
  {
   "cell_type": "markdown",
   "metadata": {},
   "source": [
    "# Model Training\n",
    "We use the cross entropy loss as loss function for our classification problem.\n",
    "As optimization algorithm, we use Adam with a learning rate of 0.01"
   ]
  },
  {
   "cell_type": "code",
   "execution_count": 27,
   "metadata": {},
   "outputs": [
    {
     "data": {
      "text/plain": [
       "ANN(\n",
       "  (fc1): Linear(in_features=4, out_features=16, bias=True)\n",
       "  (fc2): Linear(in_features=16, out_features=12, bias=True)\n",
       "  (output): Linear(in_features=12, out_features=3, bias=True)\n",
       ")"
      ]
     },
     "execution_count": 27,
     "metadata": {},
     "output_type": "execute_result"
    }
   ],
   "source": [
    "model = ANN()\n",
    "\n",
    "# loss function\n",
    "criterion = nn.CrossEntropyLoss()\n",
    "\n",
    "# loss optimization - set the learning rate\n",
    "optimizer = torch.optim.Adam(model.parameters(), lr = 0.01) #lr=eta\n",
    "\n",
    "model"
   ]
  },
  {
   "cell_type": "markdown",
   "metadata": {},
   "source": [
    "The model will be trained for 100 epochs for keeping track of time and loss. \n",
    "Every 10 epochs the console outputs the current status — indicating on which epoch are we and what’s the current loss.\n",
    "The following code outputs every 100 epochs "
   ]
  },
  {
   "cell_type": "code",
   "execution_count": 29,
   "metadata": {},
   "outputs": [
    {
     "name": "stdout",
     "output_type": "stream",
     "text": [
      "Epoch: 0 Loss: 0.05559211224317551\n",
      "Epoch: 10 Loss: 0.054777614772319794\n",
      "Epoch: 20 Loss: 0.055783264338970184\n",
      "Epoch: 30 Loss: 0.053582217544317245\n",
      "Epoch: 40 Loss: 0.05320705845952034\n",
      "Epoch: 50 Loss: 0.05279766395688057\n",
      "Epoch: 60 Loss: 0.05233215168118477\n",
      "Epoch: 70 Loss: 0.05197157710790634\n",
      "Epoch: 80 Loss: 0.051625773310661316\n",
      "Epoch: 90 Loss: 0.05129443481564522\n",
      "CPU times: total: 438 ms\n",
      "Wall time: 116 ms\n"
     ]
    }
   ],
   "source": [
    "%%time\n",
    "epochs = 100\n",
    "loss_arr = []\n",
    "\n",
    "for i in range(epochs):\n",
    "   y_hat = model.forward(X_train)\n",
    "   loss = criterion(y_hat, y_train)\n",
    "   loss_arr.append(loss)\n",
    " \n",
    "   if i % 10 == 0:\n",
    "       print(f'Epoch: {i} Loss: {loss}')\n",
    " \n",
    "# backpropagation - update weights and biases so the model can actually \"learn\"\n",
    "   optimizer.zero_grad()\n",
    "   loss.backward()\n",
    "   optimizer.step()"
   ]
  },
  {
   "cell_type": "markdown",
   "metadata": {},
   "source": [
    "# Model Evaluation\n",
    "In the evaluation process, we want to somehow keep track of predictions made by the model. We’ll need to iterate over the X_test and make a prediction, and then later compare it to the actual value.\n",
    "We will use torch.no_grad() here because we’re just evaluating — there’s no need to update weights and biases."
   ]
  },
  {
   "cell_type": "code",
   "execution_count": 30,
   "metadata": {},
   "outputs": [],
   "source": [
    "preds = []\n",
    "with torch.no_grad():\n",
    "   for val in X_test:\n",
    "       y_hat = model.forward(val)\n",
    "       preds.append(y_hat.argmax().item())"
   ]
  },
  {
   "cell_type": "markdown",
   "metadata": {},
   "source": [
    "We make a Pandas DataFrame with the following attributes:\n",
    "    Y: actual value\n",
    "    YHat: predicted value\n",
    "    Correct: flag, 1 indicating Y and YHat match, 0 otherwise"
   ]
  },
  {
   "cell_type": "code",
   "execution_count": 35,
   "metadata": {},
   "outputs": [
    {
     "data": {
      "text/html": [
       "<div>\n",
       "<style scoped>\n",
       "    .dataframe tbody tr th:only-of-type {\n",
       "        vertical-align: middle;\n",
       "    }\n",
       "\n",
       "    .dataframe tbody tr th {\n",
       "        vertical-align: top;\n",
       "    }\n",
       "\n",
       "    .dataframe thead th {\n",
       "        text-align: right;\n",
       "    }\n",
       "</style>\n",
       "<table border=\"1\" class=\"dataframe\">\n",
       "  <thead>\n",
       "    <tr style=\"text-align: right;\">\n",
       "      <th></th>\n",
       "      <th>Y</th>\n",
       "      <th>YHat</th>\n",
       "      <th>Correct</th>\n",
       "    </tr>\n",
       "  </thead>\n",
       "  <tbody>\n",
       "    <tr>\n",
       "      <th>0</th>\n",
       "      <td>1</td>\n",
       "      <td>1</td>\n",
       "      <td>1</td>\n",
       "    </tr>\n",
       "    <tr>\n",
       "      <th>1</th>\n",
       "      <td>0</td>\n",
       "      <td>0</td>\n",
       "      <td>1</td>\n",
       "    </tr>\n",
       "    <tr>\n",
       "      <th>2</th>\n",
       "      <td>2</td>\n",
       "      <td>2</td>\n",
       "      <td>1</td>\n",
       "    </tr>\n",
       "    <tr>\n",
       "      <th>3</th>\n",
       "      <td>1</td>\n",
       "      <td>1</td>\n",
       "      <td>1</td>\n",
       "    </tr>\n",
       "    <tr>\n",
       "      <th>4</th>\n",
       "      <td>1</td>\n",
       "      <td>1</td>\n",
       "      <td>1</td>\n",
       "    </tr>\n",
       "  </tbody>\n",
       "</table>\n",
       "</div>"
      ],
      "text/plain": [
       "   Y  YHat  Correct\n",
       "0  1     1        1\n",
       "1  0     0        1\n",
       "2  2     2        1\n",
       "3  1     1        1\n",
       "4  1     1        1"
      ]
     },
     "execution_count": 35,
     "metadata": {},
     "output_type": "execute_result"
    }
   ],
   "source": [
    "df = pd.DataFrame({'Y': y_test, 'YHat': preds})\n",
    "\n",
    "df['Correct'] = [1 if corr == pred else 0 for corr, pred in zip(df['Y'], df['YHat'])]\n",
    "\n",
    "# Display the first 5 rows of df\n",
    "df.head()\n"
   ]
  },
  {
   "cell_type": "markdown",
   "metadata": {},
   "source": [
    "How do we calculate the accuracy of the model?\n",
    "Sum up the Correct column and divide it with the length of df:"
   ]
  },
  {
   "cell_type": "code",
   "execution_count": 46,
   "metadata": {},
   "outputs": [
    {
     "name": "stdout",
     "output_type": "stream",
     "text": [
      "The accuracy of our model is 1.0\n"
     ]
    }
   ],
   "source": [
    "# print the accuracy\n",
    "afacc= df['Correct'].sum()/len(df)\n",
    "print(\"The accuracy of our model is \" + str(afacc))"
   ]
  },
  {
   "cell_type": "markdown",
   "metadata": {},
   "source": [
    "The accuracy of our model on previously unseen data is 100%. \n",
    "Why? The Iris dataset is utterly simple to classify. We cannot state that Neural networks are the best algorithm for this dataset.\n",
    "We might say that NN is an overkill for this type of problem, but that’s a discussion for another time.\n",
    "\n",
    "Et voilà - the most simple neural network we will ever write with:\n",
    "- perfect and clean dataset\n",
    "- no missing values\n",
    "- fewest layers and neurons"
   ]
  }
 ],
 "metadata": {
  "kernelspec": {
   "display_name": "Python 3.10.7 64-bit (microsoft store)",
   "language": "python",
   "name": "python3"
  },
  "language_info": {
   "codemirror_mode": {
    "name": "ipython",
    "version": 3
   },
   "file_extension": ".py",
   "mimetype": "text/x-python",
   "name": "python",
   "nbconvert_exporter": "python",
   "pygments_lexer": "ipython3",
   "version": "3.10.8"
  },
  "orig_nbformat": 4,
  "vscode": {
   "interpreter": {
    "hash": "2437014e73cc64fd84e82556bba012ba1aea65d4a95f4ac0ef674fe6ea933c97"
   }
  }
 },
 "nbformat": 4,
 "nbformat_minor": 2
}

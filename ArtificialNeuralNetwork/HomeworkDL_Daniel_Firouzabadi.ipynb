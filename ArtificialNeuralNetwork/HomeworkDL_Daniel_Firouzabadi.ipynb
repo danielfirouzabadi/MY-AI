{
 "cells": [
  {
   "cell_type": "markdown",
   "metadata": {},
   "source": [
    "HOMEWORK2-DL w/ Pytorch"
   ]
  },
  {
   "cell_type": "code",
   "execution_count": 6,
   "metadata": {},
   "outputs": [
    {
     "name": "stdout",
     "output_type": "stream",
     "text": [
      "torch.Size([5, 5]) \n",
      " tensor([[0.6480, 0.1362, 0.7373, 0.6902, 0.9998],\n",
      "        [0.5795, 0.1643, 0.0528, 0.0666, 0.7562],\n",
      "        [0.5302, 0.7486, 0.4450, 0.1623, 0.5030],\n",
      "        [0.4426, 0.5007, 0.9681, 0.1803, 0.3591],\n",
      "        [0.9911, 0.8102, 0.3038, 0.2114, 0.0920]])\n",
      "tensor([[1., 0., 0., 0., 0.],\n",
      "        [0., 1., 0., 0., 0.],\n",
      "        [0., 0., 1., 0., 0.],\n",
      "        [0., 0., 0., 1., 0.],\n",
      "        [0., 0., 0., 0., 1.]])\n",
      "tensor([[0.6480, 0.1362, 0.7373, 0.6902, 0.9998],\n",
      "        [0.5795, 0.1643, 0.0528, 0.0666, 0.7562],\n",
      "        [0.5302, 0.7486, 0.4450, 0.1623, 0.5030],\n",
      "        [0.4426, 0.5007, 0.9681, 0.1803, 0.3591],\n",
      "        [0.9911, 0.8102, 0.3038, 0.2114, 0.0920]])\n",
      "tensor([[0.6480, 0.0000, 0.0000, 0.0000, 0.0000],\n",
      "        [0.0000, 0.1643, 0.0000, 0.0000, 0.0000],\n",
      "        [0.0000, 0.0000, 0.4450, 0.0000, 0.0000],\n",
      "        [0.0000, 0.0000, 0.0000, 0.1803, 0.0000],\n",
      "        [0.0000, 0.0000, 0.0000, 0.0000, 0.0920]])\n"
     ]
    }
   ],
   "source": [
    "#required imports\n",
    "import torch\n",
    "import torch.nn as nn\n",
    "import torch.nn.functional as F\n",
    "import pandas as pd\n",
    "import numpy as np\n",
    "\n",
    "import matplotlib.pyplot as plt\n",
    "\n",
    "#Tensor operations\n",
    "my_first_tensor = torch.rand(5,5)\n",
    "tensor_size=my_first_tensor.shape\n",
    "print(tensor_size,'\\n', my_first_tensor)\n",
    "\n",
    "identity_tensor=torch.eye(5)\n",
    "print(identity_tensor)\n",
    "\n",
    "print(torch.matmul(my_first_tensor,identity_tensor))\n",
    "print(my_first_tensor*identity_tensor)\n",
    "\n",
    "#With a element wise multiplication we get the correct \n",
    "#solution when multiplied with an identity matrix, whereas with matmul\n",
    "#i get my_first_tensor as a solution."
   ]
  },
  {
   "cell_type": "markdown",
   "metadata": {},
   "source": [
    "Your first neural networks"
   ]
  },
  {
   "cell_type": "code",
   "execution_count": 7,
   "metadata": {},
   "outputs": [
    {
     "name": "stdout",
     "output_type": "stream",
     "text": [
      "Amount of pixels = 70225\n",
      "tensor([[0.0248, 0.3043, 0.8011,  ..., 0.8165, 0.1619, 0.8063]])\n"
     ]
    }
   ],
   "source": [
    "#9)\n",
    "pixels=265*265\n",
    "print('Amount of pixels =',pixels)\n",
    "\n",
    "input_layer=torch.rand(1, pixels)\n",
    "print(input_layer)\n",
    "#10)\n",
    "weight_1 = torch.rand(70225, 200)\n",
    "weight_2 = torch.rand(200, 10)\n",
    "\n",
    "\n"
   ]
  },
  {
   "cell_type": "markdown",
   "metadata": {},
   "source": [
    "11) Set the result of input_layer times weight_1 to hidden_1.\n",
    "12) Set the result of hidden_1 times weight_2 to output_layer and print the output_layer.\n",
    "Are 10 classes identified?"
   ]
  },
  {
   "cell_type": "code",
   "execution_count": 8,
   "metadata": {},
   "outputs": [
    {
     "name": "stdout",
     "output_type": "stream",
     "text": [
      "The output values are: tensor([[1811371.3750, 1737376.7500, 1895259.1250, 1915615.3750, 1733174.3750,\n",
      "         1783890.0000, 1726234.5000, 1749033.7500, 1771906.2500, 1649291.0000]])\n",
      "The size of the output values are: torch.Size([1, 10])\n"
     ]
    }
   ],
   "source": [
    "hidden_1 = torch.matmul(input_layer, weight_1)\n",
    "output_layer = torch.matmul(hidden_1, weight_2)\n",
    "print(\"The output values are:\", output_layer)\n",
    "print(\"The size of the output values are:\", output_layer.shape)"
   ]
  },
  {
   "cell_type": "markdown",
   "metadata": {},
   "source": [
    "13) Build the same neural network from steps 9-12, but now the PyTorch way.\n",
    "Create a class called Net with input nn.Module.\n",
    "Import the required package.\n",
    "14) Instantiate two linear layers calling them self.fc1 and self.fc2.\n",
    "15) Implement the .forward() method, using the two layers you defined and returning x.\n",
    "16) Now you have successfully built your first fully connected neural network!\n",
    "What makes this network a fully connected one?"
   ]
  },
  {
   "cell_type": "code",
   "execution_count": 9,
   "metadata": {},
   "outputs": [],
   "source": [
    "# Define the class called ANN which inherits from nn.Module# \n",
    "\n",
    "\n",
    "class Net(nn.Module):\n",
    "    def __init__(self):\n",
    "        super(Net,self).__init__()\n",
    "        self.fc1=nn.Linear(1,70225)\n",
    "        self.fc2=nn.Linear(70225,200)\n",
    "        self.output=nn.Linear(200,10)\n",
    "\n",
    "    def forward(self,x):\n",
    "        x=F.relu(self.fc1(x))\n",
    "        x=F.relu(self.fc2(x))\n",
    "        x=self.output(x)\n",
    "        return x\n",
    "\n",
    "\n",
    "#They are fully connected because all nodes of the the input-, hidden-, output layer are connceted with each other and they get the input information, manipulate them \n",
    "#and pass them forward to the output"
   ]
  }
 ],
 "metadata": {
  "kernelspec": {
   "display_name": "Python 3.10.8 64-bit (microsoft store)",
   "language": "python",
   "name": "python3"
  },
  "language_info": {
   "codemirror_mode": {
    "name": "ipython",
    "version": 3
   },
   "file_extension": ".py",
   "mimetype": "text/x-python",
   "name": "python",
   "nbconvert_exporter": "python",
   "pygments_lexer": "ipython3",
   "version": "3.10.8"
  },
  "orig_nbformat": 4,
  "vscode": {
   "interpreter": {
    "hash": "2437014e73cc64fd84e82556bba012ba1aea65d4a95f4ac0ef674fe6ea933c97"
   }
  }
 },
 "nbformat": 4,
 "nbformat_minor": 2
}

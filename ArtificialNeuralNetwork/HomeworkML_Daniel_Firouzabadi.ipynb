{
 "cells": [
  {
   "cell_type": "markdown",
   "metadata": {},
   "source": [
    "# Example\n",
    "0) Load Packages"
   ]
  },
  {
   "cell_type": "code",
   "execution_count": 1,
   "metadata": {},
   "outputs": [],
   "source": [
    "import numpy as np\n",
    "import matplotlib.pyplot as plt\n",
    "import pandas as pd"
   ]
  },
  {
   "cell_type": "markdown",
   "metadata": {},
   "source": [
    "1. Load Dataset"
   ]
  },
  {
   "cell_type": "code",
   "execution_count": 2,
   "metadata": {},
   "outputs": [
    {
     "name": "stdout",
     "output_type": "stream",
     "text": [
      "['malignant', 'benign']\n",
      "['mean radius', 'mean texture', 'mean perimeter', 'mean area', 'mean smoothness', 'mean compactness', 'mean concavity', 'mean concave points', 'mean symmetry', 'mean fractal dimension', 'radius error', 'texture error', 'perimeter error', 'area error', 'smoothness error', 'compactness error', 'concavity error', 'concave points error', 'symmetry error', 'fractal dimension error', 'worst radius', 'worst texture', 'worst perimeter', 'worst area', 'worst smoothness', 'worst compactness', 'worst concavity', 'worst concave points', 'worst symmetry', 'worst fractal dimension']\n",
      ".. _breast_cancer_dataset:\n",
      "\n",
      "Breast cancer wisconsin (diagnostic) dataset\n",
      "--------------------------------------------\n",
      "\n",
      "**Data Set Characteristics:**\n",
      "\n",
      "    :Number of Instances: 569\n",
      "\n",
      "    :Number of Attributes: 30 numeric, predictive attributes and the class\n",
      "\n",
      "    :Attribute Information:\n",
      "        - radius (mean of distances from center to points on the perimeter)\n",
      "        - texture (standard deviation of gray-scale values)\n",
      "        - perimeter\n",
      "        - area\n",
      "        - smoothness (local variation in radius lengths)\n",
      "        - compactness (perimeter^2 / area - 1.0)\n",
      "        - concavity (severity of concave portions of the contour)\n",
      "        - concave points (number of concave portions of the contour)\n",
      "        - symmetry\n",
      "        - fractal dimension (\"coastline approximation\" - 1)\n",
      "\n",
      "        The mean, standard error, and \"worst\" or largest (mean of the three\n",
      "        worst/largest values) of these features were computed for each image,\n",
      "        resulting in 30 features.  For instance, field 0 is Mean Radius, field\n",
      "        10 is Radius SE, field 20 is Worst Radius.\n",
      "\n",
      "        - class:\n",
      "                - WDBC-Malignant\n",
      "                - WDBC-Benign\n",
      "\n",
      "    :Summary Statistics:\n",
      "\n",
      "    ===================================== ====== ======\n",
      "                                           Min    Max\n",
      "    ===================================== ====== ======\n",
      "    radius (mean):                        6.981  28.11\n",
      "    texture (mean):                       9.71   39.28\n",
      "    perimeter (mean):                     43.79  188.5\n",
      "    area (mean):                          143.5  2501.0\n",
      "    smoothness (mean):                    0.053  0.163\n",
      "    compactness (mean):                   0.019  0.345\n",
      "    concavity (mean):                     0.0    0.427\n",
      "    concave points (mean):                0.0    0.201\n",
      "    symmetry (mean):                      0.106  0.304\n",
      "    fractal dimension (mean):             0.05   0.097\n",
      "    radius (standard error):              0.112  2.873\n",
      "    texture (standard error):             0.36   4.885\n",
      "    perimeter (standard error):           0.757  21.98\n",
      "    area (standard error):                6.802  542.2\n",
      "    smoothness (standard error):          0.002  0.031\n",
      "    compactness (standard error):         0.002  0.135\n",
      "    concavity (standard error):           0.0    0.396\n",
      "    concave points (standard error):      0.0    0.053\n",
      "    symmetry (standard error):            0.008  0.079\n",
      "    fractal dimension (standard error):   0.001  0.03\n",
      "    radius (worst):                       7.93   36.04\n",
      "    texture (worst):                      12.02  49.54\n",
      "    perimeter (worst):                    50.41  251.2\n",
      "    area (worst):                         185.2  4254.0\n",
      "    smoothness (worst):                   0.071  0.223\n",
      "    compactness (worst):                  0.027  1.058\n",
      "    concavity (worst):                    0.0    1.252\n",
      "    concave points (worst):               0.0    0.291\n",
      "    symmetry (worst):                     0.156  0.664\n",
      "    fractal dimension (worst):            0.055  0.208\n",
      "    ===================================== ====== ======\n",
      "\n",
      "    :Missing Attribute Values: None\n",
      "\n",
      "    :Class Distribution: 212 - Malignant, 357 - Benign\n",
      "\n",
      "    :Creator:  Dr. William H. Wolberg, W. Nick Street, Olvi L. Mangasarian\n",
      "\n",
      "    :Donor: Nick Street\n",
      "\n",
      "    :Date: November, 1995\n",
      "\n",
      "This is a copy of UCI ML Breast Cancer Wisconsin (Diagnostic) datasets.\n",
      "https://goo.gl/U2Uwz2\n",
      "\n",
      "Features are computed from a digitized image of a fine needle\n",
      "aspirate (FNA) of a breast mass.  They describe\n",
      "characteristics of the cell nuclei present in the image.\n",
      "\n",
      "Separating plane described above was obtained using\n",
      "Multisurface Method-Tree (MSM-T) [K. P. Bennett, \"Decision Tree\n",
      "Construction Via Linear Programming.\" Proceedings of the 4th\n",
      "Midwest Artificial Intelligence and Cognitive Science Society,\n",
      "pp. 97-101, 1992], a classification method which uses linear\n",
      "programming to construct a decision tree.  Relevant features\n",
      "were selected using an exhaustive search in the space of 1-4\n",
      "features and 1-3 separating planes.\n",
      "\n",
      "The actual linear program used to obtain the separating plane\n",
      "in the 3-dimensional space is that described in:\n",
      "[K. P. Bennett and O. L. Mangasarian: \"Robust Linear\n",
      "Programming Discrimination of Two Linearly Inseparable Sets\",\n",
      "Optimization Methods and Software 1, 1992, 23-34].\n",
      "\n",
      "This database is also available through the UW CS ftp server:\n",
      "\n",
      "ftp ftp.cs.wisc.edu\n",
      "cd math-prog/cpo-dataset/machine-learn/WDBC/\n",
      "\n",
      ".. topic:: References\n",
      "\n",
      "   - W.N. Street, W.H. Wolberg and O.L. Mangasarian. Nuclear feature extraction \n",
      "     for breast tumor diagnosis. IS&T/SPIE 1993 International Symposium on \n",
      "     Electronic Imaging: Science and Technology, volume 1905, pages 861-870,\n",
      "     San Jose, CA, 1993.\n",
      "   - O.L. Mangasarian, W.N. Street and W.H. Wolberg. Breast cancer diagnosis and \n",
      "     prognosis via linear programming. Operations Research, 43(4), pages 570-577, \n",
      "     July-August 1995.\n",
      "   - W.H. Wolberg, W.N. Street, and O.L. Mangasarian. Machine learning techniques\n",
      "     to diagnose breast cancer from fine-needle aspirates. Cancer Letters 77 (1994) \n",
      "     163-171.\n"
     ]
    },
    {
     "data": {
      "text/plain": [
       "mean radius                False\n",
       "mean texture               False\n",
       "mean perimeter             False\n",
       "mean area                  False\n",
       "mean smoothness            False\n",
       "mean compactness           False\n",
       "mean concavity             False\n",
       "mean concave points        False\n",
       "mean symmetry              False\n",
       "mean fractal dimension     False\n",
       "radius error               False\n",
       "texture error              False\n",
       "perimeter error            False\n",
       "area error                 False\n",
       "smoothness error           False\n",
       "compactness error          False\n",
       "concavity error            False\n",
       "concave points error       False\n",
       "symmetry error             False\n",
       "fractal dimension error    False\n",
       "worst radius               False\n",
       "worst texture              False\n",
       "worst perimeter            False\n",
       "worst area                 False\n",
       "worst smoothness           False\n",
       "worst compactness          False\n",
       "worst concavity            False\n",
       "worst concave points       False\n",
       "worst symmetry             False\n",
       "worst fractal dimension    False\n",
       "dtype: bool"
      ]
     },
     "execution_count": 2,
     "metadata": {},
     "output_type": "execute_result"
    }
   ],
   "source": [
    "from sklearn.datasets import load_breast_cancer\n",
    "data = load_breast_cancer()\n",
    "\n",
    "# print the target names\n",
    "print(list(data.target_names))\n",
    "\n",
    "# print feature names\n",
    "print(list(data.feature_names))\n",
    "\n",
    "#check for metadata\n",
    "print(data.DESCR)\n",
    "\n",
    "#check for missing values using pandas\n",
    "df = pd.DataFrame(data = data, columns = data.feature_names)\n",
    "df.isnull().any()\n",
    "\n",
    "#1) What category of the given data frame is the target variable?\n",
    "# -> categorical, malignant or benign\n",
    "\n",
    "#How many classes are present in the data? \n",
    "# -> 2\n",
    "\n",
    "#2) What and how many variables are the features? \n",
    "# -> around 30 features mostly numerical like perimeter, mean area, ....\n",
    "\n",
    "#3) Are there missing values in the dataset?\n",
    "# -> false, so no missing values present."
   ]
  },
  {
   "cell_type": "markdown",
   "metadata": {},
   "source": [
    "4. Split the data into the train and test partition. Use 30% of the data as test data.\n",
    "Make sure to keep your analysis reproducible."
   ]
  },
  {
   "cell_type": "code",
   "execution_count": 3,
   "metadata": {},
   "outputs": [],
   "source": [
    "from random import random\n",
    "from sklearn.model_selection import train_test_split\n",
    "X_train, X_test, y_train, y_test = train_test_split(data.data, data.target, test_size = 0.30, random_state = 5)"
   ]
  },
  {
   "cell_type": "markdown",
   "metadata": {},
   "source": [
    "5) Use the k-nearest neighbor (kNN) classifier of the sklearn.neighbors package.\n",
    "6) Train the selected model with its default parameters.\n",
    "Print the model’s default hyperparameters.\n"
   ]
  },
  {
   "cell_type": "code",
   "execution_count": 4,
   "metadata": {},
   "outputs": [
    {
     "name": "stdout",
     "output_type": "stream",
     "text": [
      "{'algorithm': 'auto', 'leaf_size': 30, 'metric': 'minkowski', 'metric_params': None, 'n_jobs': None, 'n_neighbors': 5, 'p': 2, 'weights': 'uniform'}\n",
      "[0 1 1 1 1 0 1 1 1 1 1 1 0 1 1 1 1 1 1 1 0 1 1 1 1 1 0 0 1 0 0 0 1 0 1 1 0\n",
      " 1 1 0 1 1 1 0 1 1 0 0 1 0 1 1 1 1 1 0 0 0 1 0 0 0 1 1 1 0 1 1 1 0 1 0 1 1\n",
      " 1 1 1 1 0 0 0 1 0 0 0 1 0 1 0 0 0 0 1 1 0 0 1 1 1 1 1 0 1 1 0 0 1 0 1 0 1\n",
      " 0 1 0 1 1 0 1 0 1 1 1 0 1 0 1 0 1 1 0 1 1 1 1 1 0 1 1 1 1 1 1 1 0 1 1 1 0\n",
      " 1 1 1 0 1 1 1 0 1 1 1 1 1 1 1 1 0 0 1 1 1 1 1]\n"
     ]
    }
   ],
   "source": [
    "from sklearn.neighbors import KNeighborsClassifier\n",
    "model = KNeighborsClassifier()\n",
    "\n",
    "#train the model\n",
    "model.fit(data.data, data.target)\n",
    "\n",
    "print(model.get_params())\n",
    "\n",
    "\n",
    "#generate predictions\n",
    "prediction_results = model.predict(X_test)\n",
    "print(prediction_results)"
   ]
  },
  {
   "cell_type": "markdown",
   "metadata": {},
   "source": [
    "7) Evaluate the selected model:\n",
    "a. What is the accuracy of your model? \n",
    "Around 97 percent\n",
    "b. What is the confusion matrix of your model?\n",
    "see output below"
   ]
  },
  {
   "cell_type": "code",
   "execution_count": 5,
   "metadata": {},
   "outputs": [
    {
     "name": "stdout",
     "output_type": "stream",
     "text": [
      "0.9707602339181286\n"
     ]
    },
    {
     "data": {
      "image/png": "[encoded data removed]",
      "text/plain": [
       "<Figure size 640x480 with 2 Axes>"
      ]
     },
     "metadata": {},
     "output_type": "display_data"
    }
   ],
   "source": [
    "# Evaluate the selected model:\n",
    "\n",
    "#accuracy\n",
    "print(model.score(X_test, y_test))\n",
    "\n",
    "#a.-> accuracy is around 97%\n",
    "\n",
    "from sklearn.metrics import confusion_matrix, ConfusionMatrixDisplay\n",
    "cm = confusion_matrix(y_test, prediction_results, labels=model.classes_)\n",
    "\n",
    "disp = ConfusionMatrixDisplay(confusion_matrix=cm,\n",
    "                              display_labels=model.classes_)\n",
    "\n",
    "disp.plot()\n",
    "\n",
    "plt.show()"
   ]
  },
  {
   "cell_type": "code",
   "execution_count": 6,
   "metadata": {},
   "outputs": [
    {
     "name": "stdout",
     "output_type": "stream",
     "text": [
      "Score of Model 1: \n",
      "0.9473684210526315\n",
      "Score of Model 3: \n",
      "0.9415204678362573\n",
      "Score of Model:  5\n",
      "0.9473684210526315\n",
      "Score of Model:  6\n",
      "0.9590643274853801\n",
      "Score of Model:  7\n",
      "0.9532163742690059\n",
      "Score of Model:  8\n",
      "0.9649122807017544\n",
      "Score of Model:  9\n",
      "0.9590643274853801\n",
      "Score of Model:  10\n",
      "0.9766081871345029\n",
      "Score of Model:  11\n",
      "0.9707602339181286\n",
      "Score of Model:  12\n",
      "0.9766081871345029\n",
      "Score of Model:  13\n",
      "0.9707602339181286\n",
      "Score of Model:  14\n",
      "0.9766081871345029\n",
      "Score of Model:  15\n",
      "0.9707602339181286\n",
      "Score of Model:  16\n",
      "0.9707602339181286\n",
      "Score of Model:  17\n",
      "0.9707602339181286\n",
      "Score of Model:  18\n",
      "0.9707602339181286\n"
     ]
    }
   ],
   "source": [
    "model1 = KNeighborsClassifier(n_neighbors=1)\n",
    "model1.fit(X_train, y_train)\n",
    "#Generate Predictions\n",
    "prediction_results1 = model1.predict(X_test)\n",
    "\n",
    "#neighbors=np.append(np.array([1,3]),np.arange(5,19))\n",
    "\n",
    "# Evaluate the Performance of the Model\n",
    "#Accuracy\n",
    "print(\"Score of Model 1: \")\n",
    "print(model1.score(X_test, y_test))\n",
    "\n",
    "model3 = KNeighborsClassifier(n_neighbors=3)\n",
    "model3.fit(X_train, y_train)\n",
    "\n",
    "#Generate Predictions\n",
    "prediction_results3 = model3.predict(X_test)\n",
    "\n",
    "\n",
    "# Evaluate the Performance of the Model\n",
    "#Accuracy\n",
    "print(\"Score of Model 3: \")\n",
    "print(model3.score(X_test, y_test))\n",
    "\n",
    "for Nneighbors in range (5, 19):\n",
    "    model5 = KNeighborsClassifier(n_neighbors = Nneighbors)\n",
    "    model5.fit(X_train, y_train)\n",
    "    #Generate Predictions\n",
    "    prediction_results5 = model5.predict(X_test)\n",
    "    # Evaluate the Performance of the Model\n",
    "    #Accuracy\n",
    "    print(\"Score of Model: \", Nneighbors)\n",
    "    print(model5.score(X_test, y_test))\n",
    "\n",
    "# We see below the different accuracies dependent on the various k=neighbors of the Testing Data,\n",
    "# from 94 to 97percent increase the more k we select"
   ]
  },
  {
   "cell_type": "code",
   "execution_count": 7,
   "metadata": {},
   "outputs": [
    {
     "name": "stdout",
     "output_type": "stream",
     "text": [
      "{'n_neighbors': 10}\n",
      "0.9220569620253165\n"
     ]
    },
    {
     "data": {
      "image/png": "[encoded data removed]",
      "text/plain": [
       "<Figure size 640x480 with 1 Axes>"
      ]
     },
     "metadata": {},
     "output_type": "display_data"
    }
   ],
   "source": [
    "\n",
    "#find the best k \n",
    "train_accuracies ={}\n",
    "test_accuracies = {}\n",
    "\n",
    "neighbors = np.arange(1,19) \n",
    "for neighbor in neighbors:\n",
    "    knn = KNeighborsClassifier(n_neighbors= neighbor)\n",
    "    knn.fit(X_train, y_train)\n",
    "    train_accuracies[neighbor] = knn.score(X_train, y_train)\n",
    "    test_accuracies[neighbor] = knn.score(X_test, y_test)\n",
    "\n",
    "plt.figure()\n",
    "plt.title(\"Knn: Variying Number of Neighbours\")\n",
    "plt.plot(neighbors, test_accuracies.values(), label = \"Test Accuracy\")\n",
    "plt.plot(neighbors, train_accuracies.values(), label = \"Training Accuracy\")\n",
    "plt.legend()\n",
    "plt.xlabel(\"Number of Neighbors\")\n",
    "plt.ylabel(\"Accuracy\")\n",
    "\n",
    "from sklearn.model_selection import GridSearchCV\n",
    "param_grid = {\"n_neighbors\":neighbors}\n",
    "knn_cv = GridSearchCV(knn, param_grid)\n",
    "knn_cv.fit(X_train, y_train)\n",
    "print(knn_cv.best_params_)\n",
    "print(knn_cv.best_score_)"
   ]
  },
  {
   "cell_type": "markdown",
   "metadata": {},
   "source": [
    "From the evaluation we see a 'best' neighbor estimation with 10 for the test data and an accuracy of around 92%\n",
    "\n",
    "Give a reason why the model evaluation should be\n",
    "performed on testing data rather than the training data -> Because we need the model for unseen data and can see better if the model has issues with over/underfitting for new data better."
   ]
  },
  {
   "cell_type": "markdown",
   "metadata": {},
   "source": [
    "12) Train your model with the selected k value. Consult the precision and recall values of the model\n",
    "to make your decision. Is the model with the highest accuracy also the one with sufficient\n",
    "precision and recall?"
   ]
  },
  {
   "cell_type": "code",
   "execution_count": 8,
   "metadata": {},
   "outputs": [
    {
     "name": "stdout",
     "output_type": "stream",
     "text": [
      "The Accuracy Score is:  0.9766081871345029\n",
      "The Precision is:  0.9649122807017544\n",
      "The Recall is:  1.0\n"
     ]
    }
   ],
   "source": [
    "#Train model with k=10\n",
    "model10 = KNeighborsClassifier(n_neighbors=10)\n",
    "model10.fit(X_train, y_train)\n",
    "#Generate Predictions\n",
    "prediction_results10 = model10.predict(X_test)\n",
    "\n",
    "# confusion matrix with specified model\n",
    "from sklearn.metrics import confusion_matrix\n",
    "cm = confusion_matrix(y_test, prediction_results10)\n",
    "\n",
    "# Evaluattion and Performance of the Model w/ hyperparameter change\n",
    "#Accuracy\n",
    "print(\"The Accuracy Score is: \", model10.score(X_test, y_test))\n",
    "\n",
    "#Libraries for Precision/Recall Score\n",
    "from sklearn.metrics import precision_score\n",
    "from sklearn.metrics import recall_score\n",
    "\n",
    "#Precision\n",
    "print(\"The Precision is: \", precision_score(y_test , prediction_results10))\n",
    "\n",
    "#Recall\n",
    "print(\"The Recall is: \", recall_score(y_test , prediction_results10))\n",
    "\n",
    "# We see for the model with k=10: \n",
    "# accuracy of 97% , precision of 96% and Recall 100%."
   ]
  },
  {
   "cell_type": "markdown",
   "metadata": {},
   "source": [
    "13) Select a classification model from the scikit-learn package.\n",
    "14) Repeat steps 6 to 7 accordingly."
   ]
  },
  {
   "cell_type": "code",
   "execution_count": 9,
   "metadata": {},
   "outputs": [
    {
     "name": "stdout",
     "output_type": "stream",
     "text": [
      "{'C': 1.0, 'break_ties': False, 'cache_size': 200, 'class_weight': None, 'coef0': 0.0, 'decision_function_shape': 'ovr', 'degree': 3, 'gamma': 'scale', 'kernel': 'rbf', 'max_iter': -1, 'probability': False, 'random_state': None, 'shrinking': True, 'tol': 0.001, 'verbose': False}\n",
      "The Accuracy is: 0.9649122807017544\n",
      "The Precision is:  0.9482758620689655\n",
      "The Recall is:  1.0\n"
     ]
    },
    {
     "data": {
      "image/png": "[encoded data removed]",
      "text/plain": [
       "<Figure size 500x500 with 2 Axes>"
      ]
     },
     "metadata": {},
     "output_type": "display_data"
    }
   ],
   "source": [
    "#support vector machine for classification \n",
    "from sklearn import svm\n",
    "import seaborn as sns \n",
    "SVM = svm.SVC()\n",
    "\n",
    "#default hyperparameters of svm\n",
    "print(SVM.get_params())\n",
    "\n",
    "#train model\n",
    "SVM.fit(X_train, y_train)\n",
    "\n",
    "#prediction of test data\n",
    "prediction_resultsSVM = SVM.predict(X_test)\n",
    "\n",
    "#Accuracy\n",
    "print(\"The Accuracy is:\", SVM.score(X_test, y_test))\n",
    "\n",
    "#Precision\n",
    "from sklearn.metrics import precision_score\n",
    "print(\"The Precision is: \", precision_score(y_test , prediction_resultsSVM))\n",
    "\n",
    "#Recall\n",
    "from sklearn.metrics import recall_score\n",
    "print(\"The Recall is: \", recall_score(y_test , prediction_resultsSVM))\n",
    "\n",
    "#Confusion Matrix\n",
    "cmSVM= confusion_matrix(y_test, prediction_resultsSVM)\n",
    "\n",
    "f, ax =plt.subplots(figsize = (5,5))\n",
    "\n",
    "sns.heatmap(cmSVM,annot = True, linewidths= 0.1, linecolor=\"black\", fmt=\".0f\", ax=ax)\n",
    "plt.xlabel(\"Predicted\")\n",
    "plt.ylabel(\"Actual\")\n",
    "plt.title(\"Breast Tumor\")\n",
    "plt.show()"
   ]
  },
  {
   "cell_type": "markdown",
   "metadata": {},
   "source": [
    "15) Does your selected model perform better than the k-nearest neighbor classifier? Please\n",
    "elaborate in a comment, and print and/or plot your findings.\n",
    "-> In my case we have less accuracy with 96% and precision of 94% but nevertheless quite good classification was achieved with SVM aswell. Maybe we can use a ROC curve to distinguish between different models. "
   ]
  },
  {
   "cell_type": "markdown",
   "metadata": {},
   "source": [
    "**Regression Model**\n",
    "Train and evaluate regression models\n",
    "Train and evaluate a regression model. You are going to predict the disease progression one year after\n",
    "baseline from diabetes patients.\n",
    "1) Use the diabetes dataset"
   ]
  },
  {
   "cell_type": "code",
   "execution_count": 10,
   "metadata": {},
   "outputs": [],
   "source": [
    "#load diabetes dataset\n",
    "from sklearn.datasets import load_diabetes\n",
    "diabetes = load_diabetes()"
   ]
  },
  {
   "cell_type": "markdown",
   "metadata": {},
   "source": [
    "2) Print a correlation matrix and observe the relations between the features."
   ]
  },
  {
   "cell_type": "code",
   "execution_count": 11,
   "metadata": {},
   "outputs": [
    {
     "name": "stdout",
     "output_type": "stream",
     "text": [
      "\n",
      " Correlation Matrix:\n",
      "           age       sex       bmi        bp        s1        s2        s3  \\\n",
      "age  1.000000  0.173737  0.185085  0.335428  0.260061  0.219243 -0.075181   \n",
      "sex  0.173737  1.000000  0.088161  0.241010  0.035277  0.142637 -0.379090   \n",
      "bmi  0.185085  0.088161  1.000000  0.395411  0.249777  0.261170 -0.366811   \n",
      "bp   0.335428  0.241010  0.395411  1.000000  0.242464  0.185548 -0.178762   \n",
      "s1   0.260061  0.035277  0.249777  0.242464  1.000000  0.896663  0.051519   \n",
      "s2   0.219243  0.142637  0.261170  0.185548  0.896663  1.000000 -0.196455   \n",
      "s3  -0.075181 -0.379090 -0.366811 -0.178762  0.051519 -0.196455  1.000000   \n",
      "s4   0.203841  0.332115  0.413807  0.257650  0.542207  0.659817 -0.738493   \n",
      "s5   0.270774  0.149916  0.446157  0.393480  0.515503  0.318357 -0.398577   \n",
      "s6   0.301731  0.208133  0.388680  0.390430  0.325717  0.290600 -0.273697   \n",
      "\n",
      "           s4        s5        s6  \n",
      "age  0.203841  0.270774  0.301731  \n",
      "sex  0.332115  0.149916  0.208133  \n",
      "bmi  0.413807  0.446157  0.388680  \n",
      "bp   0.257650  0.393480  0.390430  \n",
      "s1   0.542207  0.515503  0.325717  \n",
      "s2   0.659817  0.318357  0.290600  \n",
      "s3  -0.738493 -0.398577 -0.273697  \n",
      "s4   1.000000  0.617859  0.417212  \n",
      "s5   0.617859  1.000000  0.464669  \n",
      "s6   0.417212  0.464669  1.000000  \n"
     ]
    }
   ],
   "source": [
    "df1 = pd.DataFrame(data = diabetes.data, columns = diabetes.feature_names)\n",
    "corrMatrix = df1.corr()\n",
    "print(\"\\n Correlation Matrix:\\n\",corrMatrix)\n",
    "\n",
    "#we can see that there are some more or less correlation in the different features with each other e.g. with -0.73 for s3 to s4 having a negativ correlation. Also s1 and s2 \n",
    "#do have a strong but positive corr."
   ]
  },
  {
   "cell_type": "markdown",
   "metadata": {},
   "source": [
    "Data Inspectiond and Missing Values"
   ]
  },
  {
   "cell_type": "code",
   "execution_count": 12,
   "metadata": {},
   "outputs": [
    {
     "name": "stdout",
     "output_type": "stream",
     "text": [
      ".. _diabetes_dataset:\n",
      "\n",
      "Diabetes dataset\n",
      "----------------\n",
      "\n",
      "Ten baseline variables, age, sex, body mass index, average blood\n",
      "pressure, and six blood serum measurements were obtained for each of n =\n",
      "442 diabetes patients, as well as the response of interest, a\n",
      "quantitative measure of disease progression one year after baseline.\n",
      "\n",
      "**Data Set Characteristics:**\n",
      "\n",
      "  :Number of Instances: 442\n",
      "\n",
      "  :Number of Attributes: First 10 columns are numeric predictive values\n",
      "\n",
      "  :Target: Column 11 is a quantitative measure of disease progression one year after baseline\n",
      "\n",
      "  :Attribute Information:\n",
      "      - age     age in years\n",
      "      - sex\n",
      "      - bmi     body mass index\n",
      "      - bp      average blood pressure\n",
      "      - s1      tc, total serum cholesterol\n",
      "      - s2      ldl, low-density lipoproteins\n",
      "      - s3      hdl, high-density lipoproteins\n",
      "      - s4      tch, total cholesterol / HDL\n",
      "      - s5      ltg, possibly log of serum triglycerides level\n",
      "      - s6      glu, blood sugar level\n",
      "\n",
      "Note: Each of these 10 feature variables have been mean centered and scaled by the standard deviation times the square root of `n_samples` (i.e. the sum of squares of each column totals 1).\n",
      "\n",
      "Source URL:\n",
      "https://www4.stat.ncsu.edu/~boos/var.select/diabetes.html\n",
      "\n",
      "For more information see:\n",
      "Bradley Efron, Trevor Hastie, Iain Johnstone and Robert Tibshirani (2004) \"Least Angle Regression,\" Annals of Statistics (with discussion), 407-499.\n",
      "(https://web.stanford.edu/~hastie/Papers/LARS/LeastAngle_2002.pdf)\n",
      "\n"
     ]
    },
    {
     "data": {
      "text/plain": [
       "age    False\n",
       "sex    False\n",
       "bmi    False\n",
       "bp     False\n",
       "s1     False\n",
       "s2     False\n",
       "s3     False\n",
       "s4     False\n",
       "s5     False\n",
       "s6     False\n",
       "dtype: bool"
      ]
     },
     "execution_count": 12,
     "metadata": {},
     "output_type": "execute_result"
    }
   ],
   "source": [
    "# print some characteristic information of the dataset \n",
    "print(diabetes.DESCR)\n",
    "\n",
    "#check for missing values using pandas df\n",
    "df1.isnull().any()\n",
    "\n",
    "#Next to the 10 attr. and the quantitaive measure as target value of disease progression one year after baseline within column 11 we notice no missing values"
   ]
  },
  {
   "cell_type": "markdown",
   "metadata": {},
   "source": [
    "Again we split Data into Train and Test 30%"
   ]
  },
  {
   "cell_type": "code",
   "execution_count": 13,
   "metadata": {},
   "outputs": [],
   "source": [
    "X_train, X_test, y_train, y_test = train_test_split(diabetes.data, diabetes.target, test_size = 0.30, random_state = 60)"
   ]
  },
  {
   "cell_type": "markdown",
   "metadata": {},
   "source": [
    "Linear Regression Model"
   ]
  },
  {
   "cell_type": "code",
   "execution_count": 14,
   "metadata": {},
   "outputs": [],
   "source": [
    "from sklearn.linear_model import LinearRegression\n",
    "model_linear = LinearRegression()"
   ]
  },
  {
   "cell_type": "markdown",
   "metadata": {},
   "source": [
    "Train the Linear Regression Model"
   ]
  },
  {
   "cell_type": "code",
   "execution_count": 20,
   "metadata": {},
   "outputs": [
    {
     "name": "stdout",
     "output_type": "stream",
     "text": [
      "Hyperparameter of the Model : {'copy_X': True, 'fit_intercept': True, 'n_jobs': None, 'normalize': 'deprecated', 'positive': False}\n",
      "[172.60040851 141.73845181 138.10152366  87.2632975   66.93645312\n",
      " 225.04254488 187.73274972 231.75098014 216.77810833 140.44409559\n",
      " 127.07169846 173.12814155 116.47015052 206.75068494 153.00218188\n",
      " 144.4146491  102.77837227 229.83828109 133.09336442  86.10076956\n",
      " 201.89787329 154.30377249 214.47442723 100.14919887 164.22524412\n",
      " 248.42815749 227.01539186 156.56323831 148.10159716  87.26360487\n",
      " 183.94705025 153.99539539 120.24659526 135.29499911 151.05853681\n",
      " 122.38998877 144.35884571 124.01081816 111.08819429 164.85734995\n",
      " 174.27904628 123.52160387  94.29384007 187.19821956 174.85481345\n",
      " 213.3347742   63.34640694 110.29906749 115.98653762  64.29319918\n",
      "  95.61640715 161.19173887 260.16322756 165.53741815 205.36702832\n",
      " 169.04029709 177.56946385 164.67004226 228.32426579 164.75413204\n",
      "  79.27487789 214.30204218 115.383901   107.28421586 201.13679859\n",
      " 279.40941671 105.10534341 176.06854238 253.05517437 187.11174023\n",
      " 154.70956171 184.5525036  259.92178004 129.06176665 143.28849747\n",
      " 163.20956975 101.40943998 171.35667411 165.18127162 162.98786894\n",
      " 126.47633961 188.09268625 157.81720137  68.4124501  193.32373442\n",
      " 139.75441772 105.13383385 232.68713915 134.53934225 148.07852135\n",
      "  79.52380702 203.03714378 159.97438666  56.16163724 170.42353679\n",
      " 223.14458608  71.3125517  112.91226811  85.34515167 147.66994823\n",
      "  80.46919677  87.39688263  94.7952975  183.06850276 219.24984456\n",
      "  85.4389783   85.59092926 152.49912377 183.20703913 125.18636014\n",
      " 222.09080505  65.67304551  69.86378489 220.25286962 116.30669157\n",
      " 153.25622622 149.18091292 180.2846314  192.84264731  53.84085333\n",
      "  73.2340711  119.50564564 131.92293859 188.12076317 130.83263915\n",
      " 253.65780805 199.95295342  96.30418908 160.6803656  194.1305845\n",
      "  82.06430743 103.39963454 196.82956696]\n"
     ]
    }
   ],
   "source": [
    "# Now we train the model with our training data\n",
    "model_linear.fit(X_train, y_train)\n",
    "\n",
    "# we print our default hyperparameters\n",
    "print(\"Hyperparameter of the Model :\",model_linear.get_params())\n",
    "\n",
    "# and we do the predication with our test data and print them\n",
    "LinearPrediction= model_linear.predict(X_test)\n",
    "print(LinearPrediction)"
   ]
  },
  {
   "cell_type": "markdown",
   "metadata": {},
   "source": [
    "Its time to evaluate our prediction"
   ]
  },
  {
   "cell_type": "code",
   "execution_count": 21,
   "metadata": {},
   "outputs": [
    {
     "name": "stdout",
     "output_type": "stream",
     "text": [
      "The mean Absoloute Error is: 43.22811526665676\n",
      "The Mean Squared Error is:  2925.173770977768\n",
      "The R-Squared Score is:  0.5222762446552212\n"
     ]
    }
   ],
   "source": [
    "# We load additional packages \n",
    "from sklearn.metrics import mean_absolute_error, mean_squared_error, r2_score\n",
    "\n",
    "# Mean Absoloute Errror\n",
    "print(\"The mean Absoloute Error is:\", mean_absolute_error(y_test, LinearPrediction))\n",
    "\n",
    "# Mean Squared Error\n",
    "print(\"The Mean Squared Error is: \", mean_squared_error(y_test, LinearPrediction))\n",
    "\n",
    "# R-Squared Score\n",
    "print(\"The R-Squared Score is: \",r2_score(y_test, LinearPrediction))\n"
   ]
  }
 ],
 "metadata": {
  "kernelspec": {
   "display_name": "Python 3.10.7 64-bit (microsoft store)",
   "language": "python",
   "name": "python3"
  },
  "language_info": {
   "codemirror_mode": {
    "name": "ipython",
    "version": 3
   },
   "file_extension": ".py",
   "mimetype": "text/x-python",
   "name": "python",
   "nbconvert_exporter": "python",
   "pygments_lexer": "ipython3",
   "version": "3.10.8"
  },
  "orig_nbformat": 4,
  "vscode": {
   "interpreter": {
    "hash": "2437014e73cc64fd84e82556bba012ba1aea65d4a95f4ac0ef674fe6ea933c97"
   }
  }
 },
 "nbformat": 4,
 "nbformat_minor": 2
}
